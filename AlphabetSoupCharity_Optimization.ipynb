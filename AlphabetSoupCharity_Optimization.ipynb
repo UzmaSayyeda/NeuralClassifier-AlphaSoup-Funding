{
 "cells": [
  {
   "cell_type": "code",
   "execution_count": 1,
   "id": "5aa02082",
   "metadata": {},
   "outputs": [],
   "source": [
    "# Import our dependencies\n",
    "from sklearn.model_selection import train_test_split\n",
    "from sklearn.preprocessing import StandardScaler\n",
    "import pandas as pd\n",
    "import tensorflow as tf\n",
    "\n",
    "from tensorflow import keras\n",
    "from tensorflow.keras.layers import Dense\n",
    "from keras_tuner import RandomSearch, Hyperband\n",
    "\n",
    "import pandas as pd "
   ]
  },
  {
   "cell_type": "code",
   "execution_count": 2,
   "id": "0c525648",
   "metadata": {},
   "outputs": [
    {
     "data": {
      "text/html": [
       "<div>\n",
       "<style scoped>\n",
       "    .dataframe tbody tr th:only-of-type {\n",
       "        vertical-align: middle;\n",
       "    }\n",
       "\n",
       "    .dataframe tbody tr th {\n",
       "        vertical-align: top;\n",
       "    }\n",
       "\n",
       "    .dataframe thead th {\n",
       "        text-align: right;\n",
       "    }\n",
       "</style>\n",
       "<table border=\"1\" class=\"dataframe\">\n",
       "  <thead>\n",
       "    <tr style=\"text-align: right;\">\n",
       "      <th></th>\n",
       "      <th>EIN</th>\n",
       "      <th>NAME</th>\n",
       "      <th>APPLICATION_TYPE</th>\n",
       "      <th>AFFILIATION</th>\n",
       "      <th>CLASSIFICATION</th>\n",
       "      <th>USE_CASE</th>\n",
       "      <th>ORGANIZATION</th>\n",
       "      <th>STATUS</th>\n",
       "      <th>INCOME_AMT</th>\n",
       "      <th>SPECIAL_CONSIDERATIONS</th>\n",
       "      <th>ASK_AMT</th>\n",
       "      <th>IS_SUCCESSFUL</th>\n",
       "    </tr>\n",
       "  </thead>\n",
       "  <tbody>\n",
       "    <tr>\n",
       "      <th>0</th>\n",
       "      <td>10520599</td>\n",
       "      <td>BLUE KNIGHTS MOTORCYCLE CLUB</td>\n",
       "      <td>T10</td>\n",
       "      <td>Independent</td>\n",
       "      <td>C1000</td>\n",
       "      <td>ProductDev</td>\n",
       "      <td>Association</td>\n",
       "      <td>1</td>\n",
       "      <td>0</td>\n",
       "      <td>N</td>\n",
       "      <td>5000</td>\n",
       "      <td>1</td>\n",
       "    </tr>\n",
       "    <tr>\n",
       "      <th>1</th>\n",
       "      <td>10531628</td>\n",
       "      <td>AMERICAN CHESAPEAKE CLUB CHARITABLE TR</td>\n",
       "      <td>T3</td>\n",
       "      <td>Independent</td>\n",
       "      <td>C2000</td>\n",
       "      <td>Preservation</td>\n",
       "      <td>Co-operative</td>\n",
       "      <td>1</td>\n",
       "      <td>1-9999</td>\n",
       "      <td>N</td>\n",
       "      <td>108590</td>\n",
       "      <td>1</td>\n",
       "    </tr>\n",
       "    <tr>\n",
       "      <th>2</th>\n",
       "      <td>10547893</td>\n",
       "      <td>ST CLOUD PROFESSIONAL FIREFIGHTERS</td>\n",
       "      <td>T5</td>\n",
       "      <td>CompanySponsored</td>\n",
       "      <td>C3000</td>\n",
       "      <td>ProductDev</td>\n",
       "      <td>Association</td>\n",
       "      <td>1</td>\n",
       "      <td>0</td>\n",
       "      <td>N</td>\n",
       "      <td>5000</td>\n",
       "      <td>0</td>\n",
       "    </tr>\n",
       "    <tr>\n",
       "      <th>3</th>\n",
       "      <td>10553066</td>\n",
       "      <td>SOUTHSIDE ATHLETIC ASSOCIATION</td>\n",
       "      <td>T3</td>\n",
       "      <td>CompanySponsored</td>\n",
       "      <td>C2000</td>\n",
       "      <td>Preservation</td>\n",
       "      <td>Trust</td>\n",
       "      <td>1</td>\n",
       "      <td>10000-24999</td>\n",
       "      <td>N</td>\n",
       "      <td>6692</td>\n",
       "      <td>1</td>\n",
       "    </tr>\n",
       "    <tr>\n",
       "      <th>4</th>\n",
       "      <td>10556103</td>\n",
       "      <td>GENETIC RESEARCH INSTITUTE OF THE DESERT</td>\n",
       "      <td>T3</td>\n",
       "      <td>Independent</td>\n",
       "      <td>C1000</td>\n",
       "      <td>Heathcare</td>\n",
       "      <td>Trust</td>\n",
       "      <td>1</td>\n",
       "      <td>100000-499999</td>\n",
       "      <td>N</td>\n",
       "      <td>142590</td>\n",
       "      <td>1</td>\n",
       "    </tr>\n",
       "  </tbody>\n",
       "</table>\n",
       "</div>"
      ],
      "text/plain": [
       "        EIN                                      NAME APPLICATION_TYPE  \\\n",
       "0  10520599              BLUE KNIGHTS MOTORCYCLE CLUB              T10   \n",
       "1  10531628    AMERICAN CHESAPEAKE CLUB CHARITABLE TR               T3   \n",
       "2  10547893        ST CLOUD PROFESSIONAL FIREFIGHTERS               T5   \n",
       "3  10553066            SOUTHSIDE ATHLETIC ASSOCIATION               T3   \n",
       "4  10556103  GENETIC RESEARCH INSTITUTE OF THE DESERT               T3   \n",
       "\n",
       "        AFFILIATION CLASSIFICATION      USE_CASE  ORGANIZATION  STATUS  \\\n",
       "0       Independent          C1000    ProductDev   Association       1   \n",
       "1       Independent          C2000  Preservation  Co-operative       1   \n",
       "2  CompanySponsored          C3000    ProductDev   Association       1   \n",
       "3  CompanySponsored          C2000  Preservation         Trust       1   \n",
       "4       Independent          C1000     Heathcare         Trust       1   \n",
       "\n",
       "      INCOME_AMT SPECIAL_CONSIDERATIONS  ASK_AMT  IS_SUCCESSFUL  \n",
       "0              0                      N     5000              1  \n",
       "1         1-9999                      N   108590              1  \n",
       "2              0                      N     5000              0  \n",
       "3    10000-24999                      N     6692              1  \n",
       "4  100000-499999                      N   142590              1  "
      ]
     },
     "execution_count": 2,
     "metadata": {},
     "output_type": "execute_result"
    }
   ],
   "source": [
    "#  Import and read the charity_data.csv.\n",
    "application_df = pd.read_csv(\"Starter_Code/charity_data.csv\")\n",
    "application_df.head()"
   ]
  },
  {
   "cell_type": "code",
   "execution_count": 3,
   "id": "f5457b47",
   "metadata": {},
   "outputs": [],
   "source": [
    "# Drop the non-beneficial ID columns, 'EIN' and 'NAME'.\n",
    "application_df= application_df.drop([\"EIN\", \"NAME\"], axis = 1)"
   ]
  },
  {
   "cell_type": "code",
   "execution_count": 4,
   "id": "d22ffe86",
   "metadata": {},
   "outputs": [
    {
     "data": {
      "text/plain": [
       "APPLICATION_TYPE            17\n",
       "AFFILIATION                  6\n",
       "CLASSIFICATION              71\n",
       "USE_CASE                     5\n",
       "ORGANIZATION                 4\n",
       "STATUS                       2\n",
       "INCOME_AMT                   9\n",
       "SPECIAL_CONSIDERATIONS       2\n",
       "ASK_AMT                   8747\n",
       "IS_SUCCESSFUL                2\n",
       "dtype: int64"
      ]
     },
     "execution_count": 4,
     "metadata": {},
     "output_type": "execute_result"
    }
   ],
   "source": [
    "# Determine the number of unique values in each column.\n",
    "application_df.nunique()"
   ]
  },
  {
   "cell_type": "code",
   "execution_count": 5,
   "id": "7b5e522e",
   "metadata": {},
   "outputs": [],
   "source": [
    "# Look at APPLICATION_TYPE value counts for binning\n",
    "application_counts=application_df[\"APPLICATION_TYPE\"].value_counts()"
   ]
  },
  {
   "cell_type": "code",
   "execution_count": 6,
   "id": "8ceca4f2",
   "metadata": {},
   "outputs": [
    {
     "data": {
      "text/plain": [
       "['T9', 'T13', 'T12', 'T2', 'T25', 'T14', 'T29', 'T15', 'T17']"
      ]
     },
     "execution_count": 6,
     "metadata": {},
     "output_type": "execute_result"
    }
   ],
   "source": [
    "application_types_to_replace = (list(application_counts[application_counts < 500].index))\n",
    "application_types_to_replace"
   ]
  },
  {
   "cell_type": "code",
   "execution_count": 7,
   "id": "a77f1f9d",
   "metadata": {},
   "outputs": [
    {
     "data": {
      "text/plain": [
       "APPLICATION_TYPE\n",
       "T3       27037\n",
       "T4        1542\n",
       "T6        1216\n",
       "T5        1173\n",
       "T19       1065\n",
       "T8         737\n",
       "T7         725\n",
       "T10        528\n",
       "Other      276\n",
       "Name: count, dtype: int64"
      ]
     },
     "execution_count": 7,
     "metadata": {},
     "output_type": "execute_result"
    }
   ],
   "source": [
    "# Choose a cutoff value and create a list of application types to be replaced\n",
    "# use the variable name `application_types_to_replace`\n",
    "\n",
    "# Replace in dataframe\n",
    "for app in application_types_to_replace:\n",
    "    application_df['APPLICATION_TYPE'] = application_df['APPLICATION_TYPE'].replace(app,\"Other\")\n",
    "\n",
    "# Check to make sure binning was successful\n",
    "application_df['APPLICATION_TYPE'].value_counts()"
   ]
  },
  {
   "cell_type": "code",
   "execution_count": 8,
   "id": "af01b1c9",
   "metadata": {},
   "outputs": [],
   "source": [
    "class_count = application_df[\"CLASSIFICATION\"].value_counts()"
   ]
  },
  {
   "cell_type": "code",
   "execution_count": 9,
   "id": "75f7a1ae",
   "metadata": {},
   "outputs": [
    {
     "data": {
      "text/plain": [
       "CLASSIFICATION\n",
       "C1000    17326\n",
       "C2000     6074\n",
       "C1200     4837\n",
       "C3000     1918\n",
       "C2100     1883\n",
       "C7000      777\n",
       "C1700      287\n",
       "C4000      194\n",
       "C5000      116\n",
       "C1270      114\n",
       "C2700      104\n",
       "C2800       95\n",
       "C7100       75\n",
       "C1300       58\n",
       "C1280       50\n",
       "C1230       36\n",
       "C1400       34\n",
       "C7200       32\n",
       "C2300       32\n",
       "C1240       30\n",
       "C8000       20\n",
       "C7120       18\n",
       "C1500       16\n",
       "C1800       15\n",
       "C6000       15\n",
       "C1250       14\n",
       "C8200       11\n",
       "C1238       10\n",
       "C1278       10\n",
       "C1235        9\n",
       "C1237        9\n",
       "C7210        7\n",
       "C2400        6\n",
       "C1720        6\n",
       "C4100        6\n",
       "C1257        5\n",
       "C1600        5\n",
       "C1260        3\n",
       "C2710        3\n",
       "C0           3\n",
       "C3200        2\n",
       "C1234        2\n",
       "C1246        2\n",
       "C1267        2\n",
       "C1256        2\n",
       "Name: count, dtype: int64"
      ]
     },
     "execution_count": 9,
     "metadata": {},
     "output_type": "execute_result"
    }
   ],
   "source": [
    "class_count[class_count > 1]"
   ]
  },
  {
   "cell_type": "code",
   "execution_count": 10,
   "id": "4e3adebf",
   "metadata": {},
   "outputs": [
    {
     "data": {
      "text/plain": [
       "CLASSIFICATION\n",
       "C1000    17326\n",
       "C2000     6074\n",
       "C1200     4837\n",
       "Other     2261\n",
       "C3000     1918\n",
       "C2100     1883\n",
       "Name: count, dtype: int64"
      ]
     },
     "execution_count": 10,
     "metadata": {},
     "output_type": "execute_result"
    }
   ],
   "source": [
    "# Determine which values to replace if counts are less than 1000\n",
    "classifications_to_replace = list(class_count[class_count < 1000].index)\n",
    "\n",
    "# Replace in dataframe\n",
    "for cls in classifications_to_replace:\n",
    "    application_df['CLASSIFICATION'] = application_df['CLASSIFICATION'].replace(cls,\"Other\")\n",
    "    \n",
    "# Check to make sure binning was successful\n",
    "application_df['CLASSIFICATION'].value_counts()"
   ]
  },
  {
   "cell_type": "code",
   "execution_count": 11,
   "id": "9a595dbf",
   "metadata": {},
   "outputs": [],
   "source": [
    "# Convert categorical data to numeric with `pd.get_dummies`\n",
    "dummified_df = pd.get_dummies(application_df, dtype=int,drop_first= True)"
   ]
  },
  {
   "cell_type": "code",
   "execution_count": 12,
   "id": "ba83a65f",
   "metadata": {},
   "outputs": [],
   "source": [
    "# Split our preprocessed data into our features and target arrays\n",
    "X = dummified_df.drop(\"IS_SUCCESSFUL\", axis=1)\n",
    "y = dummified_df[\"IS_SUCCESSFUL\"]\n",
    "\n",
    "# Split the preprocessed data into a training and testing dataset\n",
    "X_train, X_test, y_train, y_test = train_test_split(X,y, random_state=1)"
   ]
  },
  {
   "cell_type": "code",
   "execution_count": 13,
   "id": "265a0a7a",
   "metadata": {},
   "outputs": [],
   "source": [
    "# Create a StandardScaler instances\n",
    "scaler = StandardScaler()\n",
    "\n",
    "# Fit the StandardScaler\n",
    "X_scaler = scaler.fit(X_train)\n",
    "\n",
    "# Scale the data\n",
    "X_train_scaled = X_scaler.transform(X_train)\n",
    "X_test_scaled = X_scaler.transform(X_test)"
   ]
  },
  {
   "cell_type": "markdown",
   "id": "83700dfd",
   "metadata": {},
   "source": [
    "----------\n",
    "### Attemp 1\n",
    "----------"
   ]
  },
  {
   "cell_type": "code",
   "execution_count": 39,
   "id": "34a1dbff",
   "metadata": {},
   "outputs": [
    {
     "name": "stdout",
     "output_type": "stream",
     "text": [
      "Model: \"sequential_7\"\n",
      "_________________________________________________________________\n",
      " Layer (type)                Output Shape              Param #   \n",
      "=================================================================\n",
      " dense_39 (Dense)            (None, 512)               18944     \n",
      "                                                                 \n",
      " dense_40 (Dense)            (None, 256)               131328    \n",
      "                                                                 \n",
      " dense_41 (Dense)            (None, 128)               32896     \n",
      "                                                                 \n",
      " dense_42 (Dense)            (None, 64)                8256      \n",
      "                                                                 \n",
      " dense_43 (Dense)            (None, 1)                 65        \n",
      "                                                                 \n",
      "=================================================================\n",
      "Total params: 191489 (748.00 KB)\n",
      "Trainable params: 191489 (748.00 KB)\n",
      "Non-trainable params: 0 (0.00 Byte)\n",
      "_________________________________________________________________\n"
     ]
    }
   ],
   "source": [
    "# Define the model - deep neural net, i.e., the number of input features and hidden nodes for each layer.\n",
    "model_nn = tf.keras.models.Sequential()\n",
    "\n",
    "# First hidden layer\n",
    "model_nn.add(Dense(units = 512, activation = \"sigmoid\", input_dim = X_train.shape[1]))\n",
    "\n",
    "# Second hidden layer\n",
    "model_nn.add(Dense(units = 256, activation = \"sigmoid\"))\n",
    "\n",
    "model_nn.add(Dense(units = 128, activation = \"tanh\"))\n",
    "\n",
    "model_nn.add(Dense(units = 64, activation = \"tanh\"))\n",
    "                               \n",
    "# Output layer\n",
    "model_nn.add(Dense(units = 1, activation = \"sigmoid\"))\n",
    "\n",
    "# Check the structure of the model\n",
    "model_nn.summary()"
   ]
  },
  {
   "cell_type": "code",
   "execution_count": 40,
   "id": "021a6048",
   "metadata": {},
   "outputs": [],
   "source": [
    "# Compile \n",
    "model_nn.compile(loss = \"binary_crossentropy\", optimizer= keras.optimizers.Adam(learning_rate=0.001), metrics = [\"accuracy\"])"
   ]
  },
  {
   "cell_type": "code",
   "execution_count": 41,
   "id": "0b26c87b",
   "metadata": {},
   "outputs": [
    {
     "name": "stdout",
     "output_type": "stream",
     "text": [
      "Epoch 1/10\n",
      "804/804 [==============================] - 6s 5ms/step - loss: 0.6064 - accuracy: 0.6905\n",
      "Epoch 2/10\n",
      "804/804 [==============================] - 4s 5ms/step - loss: 0.5722 - accuracy: 0.7255\n",
      "Epoch 3/10\n",
      "804/804 [==============================] - 4s 5ms/step - loss: 0.5658 - accuracy: 0.7269\n",
      "Epoch 4/10\n",
      "804/804 [==============================] - 4s 4ms/step - loss: 0.5626 - accuracy: 0.7276\n",
      "Epoch 5/10\n",
      "804/804 [==============================] - 4s 5ms/step - loss: 0.5617 - accuracy: 0.7287\n",
      "Epoch 6/10\n",
      "804/804 [==============================] - 4s 5ms/step - loss: 0.5597 - accuracy: 0.7270\n",
      "Epoch 7/10\n",
      "804/804 [==============================] - 4s 5ms/step - loss: 0.5578 - accuracy: 0.7296\n",
      "Epoch 8/10\n",
      "804/804 [==============================] - 4s 5ms/step - loss: 0.5574 - accuracy: 0.7282\n",
      "Epoch 9/10\n",
      "804/804 [==============================] - 4s 5ms/step - loss: 0.5565 - accuracy: 0.7297\n",
      "Epoch 10/10\n",
      "804/804 [==============================] - 4s 5ms/step - loss: 0.5555 - accuracy: 0.7293\n"
     ]
    },
    {
     "data": {
      "text/plain": [
       "<keras.src.callbacks.History at 0x1db98dff610>"
      ]
     },
     "execution_count": 41,
     "metadata": {},
     "output_type": "execute_result"
    }
   ],
   "source": [
    "# Train\n",
    "model_nn.fit(X_train_scaled, y_train, epochs = 10)"
   ]
  },
  {
   "cell_type": "code",
   "execution_count": 42,
   "id": "980f3d21",
   "metadata": {},
   "outputs": [
    {
     "name": "stdout",
     "output_type": "stream",
     "text": [
      "268/268 - 1s - loss: 0.5613 - accuracy: 0.7269 - 802ms/epoch - 3ms/step\n",
      " loss : 56.00000000000001%, accuray : 73.0%\n"
     ]
    }
   ],
   "source": [
    "# Evaluate\n",
    "model_loss, model_accuracy = model_nn.evaluate(X_test_scaled, y_test, verbose=2)\n",
    "print(f\" loss : {round(model_loss,2)*100}%, accuray : {round(model_accuracy,2)*100}%\")"
   ]
  },
  {
   "cell_type": "markdown",
   "id": "ffe0ab16",
   "metadata": {},
   "source": [
    "--------------\n",
    "### Attempt 2\n",
    "---------------"
   ]
  },
  {
   "cell_type": "code",
   "execution_count": 18,
   "id": "08f3a200",
   "metadata": {},
   "outputs": [
    {
     "name": "stdout",
     "output_type": "stream",
     "text": [
      "Model: \"sequential_1\"\n",
      "_________________________________________________________________\n",
      " Layer (type)                Output Shape              Param #   \n",
      "=================================================================\n",
      " dense_5 (Dense)             (None, 512)               18944     \n",
      "                                                                 \n",
      " dense_6 (Dense)             (None, 256)               131328    \n",
      "                                                                 \n",
      " dense_7 (Dense)             (None, 128)               32896     \n",
      "                                                                 \n",
      " dense_8 (Dense)             (None, 64)                8256      \n",
      "                                                                 \n",
      " dense_9 (Dense)             (None, 32)                2080      \n",
      "                                                                 \n",
      " dense_10 (Dense)            (None, 16)                528       \n",
      "                                                                 \n",
      " dense_11 (Dense)            (None, 8)                 136       \n",
      "                                                                 \n",
      " dense_12 (Dense)            (None, 4)                 36        \n",
      "                                                                 \n",
      " dense_13 (Dense)            (None, 1)                 5         \n",
      "                                                                 \n",
      "=================================================================\n",
      "Total params: 194209 (758.63 KB)\n",
      "Trainable params: 194209 (758.63 KB)\n",
      "Non-trainable params: 0 (0.00 Byte)\n",
      "_________________________________________________________________\n"
     ]
    }
   ],
   "source": [
    "# Define the model - deep neural net, i.e., the number of input features and hidden nodes for each layer.\n",
    "model_nn = tf.keras.models.Sequential()\n",
    "\n",
    "# First hidden layer\n",
    "model_nn.add(Dense(units = 512, activation = \"sigmoid\", input_dim = X_train.shape[1]))\n",
    "\n",
    "# Second hidden layer\n",
    "model_nn.add(Dense(units = 256, activation = \"sigmoid\"))\n",
    "\n",
    "model_nn.add(Dense(units = 128, activation = \"sigmoid\"))\n",
    "\n",
    "model_nn.add(Dense(units = 64, activation = \"sigmoid\"))\n",
    "\n",
    "model_nn.add(Dense(units = 32, activation = \"sigmoid\"))\n",
    "\n",
    "model_nn.add(Dense(units = 16, activation = \"sigmoid\"))\n",
    "\n",
    "model_nn.add(Dense(units = 8, activation = \"sigmoid\"))\n",
    "\n",
    "model_nn.add(Dense(units = 4, activation = \"sigmoid\"))\n",
    "                       \n",
    "        \n",
    "# Output layer\n",
    "model_nn.add(Dense(units = 1, activation = \"sigmoid\"))\n",
    "\n",
    "# Check the structure of the model\n",
    "model_nn.summary()"
   ]
  },
  {
   "cell_type": "code",
   "execution_count": 19,
   "id": "e1c0810e",
   "metadata": {},
   "outputs": [
    {
     "name": "stdout",
     "output_type": "stream",
     "text": [
      "Epoch 1/10\n",
      "804/804 [==============================] - 9s 9ms/step - loss: 0.6582 - accuracy: 0.6145\n",
      "Epoch 2/10\n",
      "804/804 [==============================] - 7s 8ms/step - loss: 0.6179 - accuracy: 0.6881\n",
      "Epoch 3/10\n",
      "804/804 [==============================] - 7s 8ms/step - loss: 0.6362 - accuracy: 0.6564\n",
      "Epoch 4/10\n",
      "804/804 [==============================] - 7s 8ms/step - loss: 0.5960 - accuracy: 0.7166\n",
      "Epoch 5/10\n",
      "804/804 [==============================] - 7s 8ms/step - loss: 0.5912 - accuracy: 0.7215\n",
      "Epoch 6/10\n",
      "804/804 [==============================] - 7s 8ms/step - loss: 0.5939 - accuracy: 0.7189\n",
      "Epoch 7/10\n",
      "804/804 [==============================] - 6s 7ms/step - loss: 0.5945 - accuracy: 0.7181\n",
      "Epoch 8/10\n",
      "804/804 [==============================] - 4s 5ms/step - loss: 0.5926 - accuracy: 0.7205\n",
      "Epoch 9/10\n",
      "804/804 [==============================] - 4s 5ms/step - loss: 0.5923 - accuracy: 0.7208\n",
      "Epoch 10/10\n",
      "804/804 [==============================] - 4s 5ms/step - loss: 0.5922 - accuracy: 0.7208\n"
     ]
    },
    {
     "data": {
      "text/plain": [
       "<keras.src.callbacks.History at 0x1db8fd01f90>"
      ]
     },
     "execution_count": 19,
     "metadata": {},
     "output_type": "execute_result"
    }
   ],
   "source": [
    "# Compile \n",
    "model_nn.compile(loss = \"binary_crossentropy\", optimizer= \"adam\", metrics = [\"accuracy\"])\n",
    "\n",
    "# Train\n",
    "model_nn.fit(X_train_scaled, y_train, epochs = 10)"
   ]
  },
  {
   "cell_type": "code",
   "execution_count": 20,
   "id": "374142c9",
   "metadata": {},
   "outputs": [
    {
     "name": "stdout",
     "output_type": "stream",
     "text": [
      "268/268 - 1s - loss: 0.5904 - accuracy: 0.7235 - 981ms/epoch - 4ms/step\n",
      " loss : 59.0%, accuray : 72.0%\n"
     ]
    }
   ],
   "source": [
    "# Evaluate\n",
    "model_loss, model_accuracy = model_nn.evaluate(X_test_scaled, y_test, verbose=2)\n",
    "print(f\" loss : {round(model_loss,2)*100}%, accuray : {round(model_accuracy,2)*100}%\")"
   ]
  },
  {
   "cell_type": "markdown",
   "id": "11626eac",
   "metadata": {},
   "source": [
    "----------\n",
    "### Attempt 3\n",
    "------------"
   ]
  },
  {
   "cell_type": "code",
   "execution_count": 46,
   "id": "6a0a048d",
   "metadata": {},
   "outputs": [
    {
     "name": "stdout",
     "output_type": "stream",
     "text": [
      "Model: \"sequential_9\"\n",
      "_________________________________________________________________\n",
      " Layer (type)                Output Shape              Param #   \n",
      "=================================================================\n",
      " dense_49 (Dense)            (None, 100)               3700      \n",
      "                                                                 \n",
      " dense_50 (Dense)            (None, 80)                8080      \n",
      "                                                                 \n",
      " dense_51 (Dense)            (None, 60)                4860      \n",
      "                                                                 \n",
      " dense_52 (Dense)            (None, 20)                1220      \n",
      "                                                                 \n",
      " dense_53 (Dense)            (None, 1)                 21        \n",
      "                                                                 \n",
      "=================================================================\n",
      "Total params: 17881 (69.85 KB)\n",
      "Trainable params: 17881 (69.85 KB)\n",
      "Non-trainable params: 0 (0.00 Byte)\n",
      "_________________________________________________________________\n"
     ]
    }
   ],
   "source": [
    "# Define the model - deep neural net, i.e., the number of input features and hidden nodes for each layer.\n",
    "model_nn = tf.keras.models.Sequential()\n",
    "\n",
    "# First hidden layer\n",
    "model_nn.add(Dense(units = 100, activation = \"sigmoid\", input_dim = X_train.shape[1]))\n",
    "\n",
    "# Second hidden layer\n",
    "model_nn.add(Dense(units = 80, activation = \"sigmoid\"))\n",
    "\n",
    "\n",
    "model_nn.add(Dense(units = 60, activation = \"sigmoid\"))\n",
    "\n",
    "\n",
    "model_nn.add(Dense(units = 20, activation = \"sigmoid\"))\n",
    "\n",
    "# Output layer\n",
    "model_nn.add(Dense(units = 1, activation = \"sigmoid\"))\n",
    "\n",
    "# Check the structure of the model\n",
    "model_nn.summary()"
   ]
  },
  {
   "cell_type": "code",
   "execution_count": 47,
   "id": "7c83f63e",
   "metadata": {},
   "outputs": [
    {
     "name": "stdout",
     "output_type": "stream",
     "text": [
      "Epoch 1/50\n",
      "804/804 [==============================] - 4s 3ms/step - loss: 0.6890 - accuracy: 0.5335\n",
      "Epoch 2/50\n",
      "804/804 [==============================] - 2s 2ms/step - loss: 0.6546 - accuracy: 0.6365\n",
      "Epoch 3/50\n",
      "804/804 [==============================] - 2s 2ms/step - loss: 0.5888 - accuracy: 0.7210\n",
      "Epoch 4/50\n",
      "804/804 [==============================] - 2s 2ms/step - loss: 0.5793 - accuracy: 0.7240\n",
      "Epoch 5/50\n",
      "804/804 [==============================] - 2s 2ms/step - loss: 0.5776 - accuracy: 0.7239\n",
      "Epoch 6/50\n",
      "804/804 [==============================] - 2s 3ms/step - loss: 0.5765 - accuracy: 0.7266\n",
      "Epoch 7/50\n",
      "804/804 [==============================] - 2s 2ms/step - loss: 0.5759 - accuracy: 0.7270\n",
      "Epoch 8/50\n",
      "804/804 [==============================] - 2s 2ms/step - loss: 0.5754 - accuracy: 0.7275\n",
      "Epoch 9/50\n",
      "804/804 [==============================] - 2s 2ms/step - loss: 0.5752 - accuracy: 0.7262\n",
      "Epoch 10/50\n",
      "804/804 [==============================] - 2s 2ms/step - loss: 0.5748 - accuracy: 0.7261\n",
      "Epoch 11/50\n",
      "804/804 [==============================] - 2s 2ms/step - loss: 0.5747 - accuracy: 0.7267\n",
      "Epoch 12/50\n",
      "804/804 [==============================] - 2s 2ms/step - loss: 0.5745 - accuracy: 0.7265\n",
      "Epoch 13/50\n",
      "804/804 [==============================] - 2s 3ms/step - loss: 0.5743 - accuracy: 0.7266\n",
      "Epoch 14/50\n",
      "804/804 [==============================] - 2s 2ms/step - loss: 0.5741 - accuracy: 0.7261\n",
      "Epoch 15/50\n",
      "804/804 [==============================] - 2s 2ms/step - loss: 0.5740 - accuracy: 0.7256\n",
      "Epoch 16/50\n",
      "804/804 [==============================] - 2s 2ms/step - loss: 0.5735 - accuracy: 0.7263\n",
      "Epoch 17/50\n",
      "804/804 [==============================] - 3s 3ms/step - loss: 0.5735 - accuracy: 0.7263\n",
      "Epoch 18/50\n",
      "804/804 [==============================] - 2s 3ms/step - loss: 0.5733 - accuracy: 0.7262\n",
      "Epoch 19/50\n",
      "804/804 [==============================] - 2s 2ms/step - loss: 0.5732 - accuracy: 0.7258\n",
      "Epoch 20/50\n",
      "804/804 [==============================] - 3s 3ms/step - loss: 0.5728 - accuracy: 0.7261\n",
      "Epoch 21/50\n",
      "804/804 [==============================] - 3s 3ms/step - loss: 0.5726 - accuracy: 0.7261\n",
      "Epoch 22/50\n",
      "804/804 [==============================] - 3s 3ms/step - loss: 0.5724 - accuracy: 0.7259\n",
      "Epoch 23/50\n",
      "804/804 [==============================] - 3s 3ms/step - loss: 0.5718 - accuracy: 0.7261\n",
      "Epoch 24/50\n",
      "804/804 [==============================] - 3s 3ms/step - loss: 0.5717 - accuracy: 0.7262\n",
      "Epoch 25/50\n",
      "804/804 [==============================] - 3s 3ms/step - loss: 0.5711 - accuracy: 0.7263\n",
      "Epoch 26/50\n",
      "804/804 [==============================] - 3s 3ms/step - loss: 0.5706 - accuracy: 0.7261\n",
      "Epoch 27/50\n",
      "804/804 [==============================] - 2s 3ms/step - loss: 0.5701 - accuracy: 0.7254\n",
      "Epoch 28/50\n",
      "804/804 [==============================] - 2s 3ms/step - loss: 0.5694 - accuracy: 0.7268\n",
      "Epoch 29/50\n",
      "804/804 [==============================] - 2s 3ms/step - loss: 0.5688 - accuracy: 0.7259\n",
      "Epoch 30/50\n",
      "804/804 [==============================] - 2s 2ms/step - loss: 0.5683 - accuracy: 0.7265\n",
      "Epoch 31/50\n",
      "804/804 [==============================] - 2s 3ms/step - loss: 0.5676 - accuracy: 0.7266\n",
      "Epoch 32/50\n",
      "804/804 [==============================] - 2s 3ms/step - loss: 0.5670 - accuracy: 0.7271\n",
      "Epoch 33/50\n",
      "804/804 [==============================] - 2s 3ms/step - loss: 0.5663 - accuracy: 0.7271\n",
      "Epoch 34/50\n",
      "804/804 [==============================] - 2s 3ms/step - loss: 0.5656 - accuracy: 0.7269\n",
      "Epoch 35/50\n",
      "804/804 [==============================] - 3s 3ms/step - loss: 0.5651 - accuracy: 0.7268\n",
      "Epoch 36/50\n",
      "804/804 [==============================] - 3s 3ms/step - loss: 0.5645 - accuracy: 0.7273\n",
      "Epoch 37/50\n",
      "804/804 [==============================] - 2s 3ms/step - loss: 0.5638 - accuracy: 0.7275\n",
      "Epoch 38/50\n",
      "804/804 [==============================] - 3s 3ms/step - loss: 0.5634 - accuracy: 0.7275\n",
      "Epoch 39/50\n",
      "804/804 [==============================] - 3s 3ms/step - loss: 0.5630 - accuracy: 0.7274\n",
      "Epoch 40/50\n",
      "804/804 [==============================] - 2s 3ms/step - loss: 0.5623 - accuracy: 0.7269\n",
      "Epoch 41/50\n",
      "804/804 [==============================] - 2s 2ms/step - loss: 0.5620 - accuracy: 0.7280\n",
      "Epoch 42/50\n",
      "804/804 [==============================] - 2s 2ms/step - loss: 0.5614 - accuracy: 0.7285\n",
      "Epoch 43/50\n",
      "804/804 [==============================] - 2s 3ms/step - loss: 0.5611 - accuracy: 0.7268\n",
      "Epoch 44/50\n",
      "804/804 [==============================] - 2s 3ms/step - loss: 0.5608 - accuracy: 0.7280\n",
      "Epoch 45/50\n",
      "804/804 [==============================] - 2s 2ms/step - loss: 0.5605 - accuracy: 0.7269\n",
      "Epoch 46/50\n",
      "804/804 [==============================] - 2s 2ms/step - loss: 0.5600 - accuracy: 0.7282\n",
      "Epoch 47/50\n",
      "804/804 [==============================] - 2s 3ms/step - loss: 0.5597 - accuracy: 0.7280\n",
      "Epoch 48/50\n",
      "804/804 [==============================] - 3s 3ms/step - loss: 0.5594 - accuracy: 0.7277\n",
      "Epoch 49/50\n",
      "804/804 [==============================] - 3s 3ms/step - loss: 0.5591 - accuracy: 0.7288\n",
      "Epoch 50/50\n",
      "804/804 [==============================] - 2s 3ms/step - loss: 0.5587 - accuracy: 0.7280\n"
     ]
    },
    {
     "data": {
      "text/plain": [
       "<keras.src.callbacks.History at 0x1dba36eaa50>"
      ]
     },
     "execution_count": 47,
     "metadata": {},
     "output_type": "execute_result"
    }
   ],
   "source": [
    "# Compile \n",
    "model_nn.compile(loss = \"binary_crossentropy\", optimizer= keras.optimizers.Adam(learning_rate=0.0001), metrics = [\"accuracy\"])\n",
    "\n",
    "# Train\n",
    "model_nn.fit(X_train_scaled, y_train, epochs = 50)"
   ]
  },
  {
   "cell_type": "code",
   "execution_count": 48,
   "id": "52072f02",
   "metadata": {},
   "outputs": [
    {
     "name": "stdout",
     "output_type": "stream",
     "text": [
      "268/268 - 1s - loss: 0.5634 - accuracy: 0.7263 - 733ms/epoch - 3ms/step\n",
      " loss : 60.0%, accuray : 72.6%\n"
     ]
    }
   ],
   "source": [
    "# Evaluate\n",
    "model_loss, model_accuracy = model_nn.evaluate(X_test_scaled, y_test, verbose=2)\n",
    "print(f\" loss : {round(model_loss,1)*100}%, accuray : {round(model_accuracy,3)*100}%\")"
   ]
  },
  {
   "cell_type": "code",
   "execution_count": null,
   "id": "e4547cef",
   "metadata": {},
   "outputs": [],
   "source": []
  },
  {
   "cell_type": "code",
   "execution_count": null,
   "id": "8a05d72c",
   "metadata": {},
   "outputs": [],
   "source": []
  },
  {
   "cell_type": "code",
   "execution_count": null,
   "id": "eefc0cd0",
   "metadata": {},
   "outputs": [],
   "source": []
  }
 ],
 "metadata": {
  "kernelspec": {
   "display_name": "Python 3 (ipykernel)",
   "language": "python",
   "name": "python3"
  },
  "language_info": {
   "codemirror_mode": {
    "name": "ipython",
    "version": 3
   },
   "file_extension": ".py",
   "mimetype": "text/x-python",
   "name": "python",
   "nbconvert_exporter": "python",
   "pygments_lexer": "ipython3",
   "version": "3.11.5"
  }
 },
 "nbformat": 4,
 "nbformat_minor": 5
}
